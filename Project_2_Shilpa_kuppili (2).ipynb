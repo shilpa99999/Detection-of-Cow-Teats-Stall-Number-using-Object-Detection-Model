{
  "cells": [
    {
      "cell_type": "code",
      "execution_count": null,
      "id": "0e8d6a62",
      "metadata": {
        "id": "0e8d6a62"
      },
      "outputs": [],
      "source": [
        "# Import the required libraries\n",
        "import os\n",
        "import pandas as pd\n",
        "import torch\n",
        "import numpy as np"
      ]
    },
    {
      "cell_type": "code",
      "source": [
        "from PIL import Image\n",
        "from torchvision import models, transforms\n",
        "from torch.utils.data import Dataset, DataLoader\n"
      ],
      "metadata": {
        "id": "oEQJHcGae5FY"
      },
      "id": "oEQJHcGae5FY",
      "execution_count": null,
      "outputs": []
    },
    {
      "cell_type": "code",
      "source": [
        "from torch.optim import SGD, lr_scheduler\n",
        "from torch.nn import CrossEntropyLoss\n",
        "from sklearn.metrics import accuracy_score"
      ],
      "metadata": {
        "id": "bdJLC1utfMXG"
      },
      "id": "bdJLC1utfMXG",
      "execution_count": null,
      "outputs": []
    },
    {
      "cell_type": "code",
      "execution_count": null,
      "id": "422287e2",
      "metadata": {
        "id": "422287e2"
      },
      "outputs": [],
      "source": [
        "# Define the class enhanced image dataset\n",
        "class EnhancedImageDataset(Dataset):\n",
        "    def __init__(self, annotation_path, images_folder, transformation=None):\n",
        "        self.image_annotations = pd.read_csv(annotation_path)\n",
        "        self.images_folder = images_folder\n",
        "        self.transformation = transformation\n",
        "\n",
        "    def __len__(self):\n",
        "        return len(self.image_annotations)\n",
        "\n",
        "    def __getitem__(self, index):\n",
        "        image_file = os.path.join(self.images_folder, self.image_annotations.iloc[index, 0])\n",
        "        image = Image.open(image_file).convert('RGB')\n",
        "        label = self.image_annotations.iloc[index, 5]\n",
        "        label = torch.tensor(label).long()\n",
        "        if self.transformation:\n",
        "            image = self.transformation(image)\n",
        "\n",
        "        return image, label"
      ]
    },
    {
      "cell_type": "code",
      "execution_count": null,
      "id": "1e659a24",
      "metadata": {
        "id": "1e659a24"
      },
      "outputs": [],
      "source": [
        "def calculate_iou(box1, box2):\n",
        "    # Ensure that the boxes are (x_min, y_min, x_max, y_max)\n",
        "    x1_min, y1_min, x1_max, y1_max = box1\n",
        "    x2_min, y2_min, x2_max, y2_max = box2\n",
        "\n",
        "    # Calculate the intersection values\n",
        "    x_min_inter = max(x1_min, x2_min)\n",
        "    y_min_inter = max(y1_min, y2_min)\n",
        "    x_max_inter = min(x1_max, x2_max)\n",
        "    y_max_inter = min(y1_max, y2_max)\n",
        "   # Calculate the inter area\n",
        "    inter_area = max(x_max_inter - x_min_inter, 0) * max(y_max_inter - y_min_inter, 0)\n",
        "\n",
        "    # Calculate union values\n",
        "    box1_area = (x1_max - x1_min) * (y1_max - y1_min)\n",
        "    box2_area = (x2_max - x2_min) * (y2_max - y2_min)\n",
        "    union_area = box1_area + box2_area - inter_area\n",
        "\n",
        "    # Calculate IoU\n",
        "    iou = inter_area / union_area if union_area != 0 else 0\n",
        "    # Return the IoU\n",
        "    return iou"
      ]
    },
    {
      "cell_type": "code",
      "execution_count": null,
      "id": "328eee59",
      "metadata": {
        "id": "328eee59"
      },
      "outputs": [],
      "source": [
        "# transformations on the images\n",
        "advanced_transform = transforms.Compose([\n",
        "    transforms.Resize((256, 256)),\n",
        "    transforms.RandomHorizontalFlip(),\n",
        "    transforms.RandomVerticalFlip(),\n",
        "    transforms.RandomRotation(15),\n",
        "    transforms.ColorJitter(),\n",
        "    transforms.RandomResizedCrop(224),\n",
        "    transforms.ToTensor(),\n",
        "])\n",
        "\n",
        "\n"
      ]
    },
    {
      "cell_type": "code",
      "source": [
        "# Create the train datasets and the test datasets\n",
        "train_data = EnhancedImageDataset(\n",
        "    annotation_path='C:/Users/Shilpa/Downloads/Cow_stall_number-main/train.csv',\n",
        "    images_folder='C:/Users/Shilpa/Downloads/Cow_stall_number-main/Stall_num_images',\n",
        "    transformation=advanced_transform\n",
        ")"
      ],
      "metadata": {
        "id": "ee9TXDRtf6F3"
      },
      "id": "ee9TXDRtf6F3",
      "execution_count": null,
      "outputs": []
    },
    {
      "cell_type": "code",
      "source": [
        "test_data = EnhancedImageDataset(\n",
        "    annotation_path='C:/Users/Shilpa/Downloads/Cow_stall_number-main/test.csv',\n",
        "    images_folder='C:/Users/Shilpa/Downloads/Cow_stall_number-main/Stall_num_images',\n",
        "    transformation=advanced_transform\n",
        ")"
      ],
      "metadata": {
        "id": "xd9RFN9kf333"
      },
      "id": "xd9RFN9kf333",
      "execution_count": null,
      "outputs": []
    },
    {
      "cell_type": "code",
      "source": [
        "batch_size = 16\n",
        "# train and test loaders defined here\n",
        "train_loader = DataLoader(train_data, batch_size=batch_size, shuffle=True)\n",
        "test_loader = DataLoader(test_data, batch_size=batch_size)"
      ],
      "metadata": {
        "id": "DVyvTV00gBLp"
      },
      "id": "DVyvTV00gBLp",
      "execution_count": null,
      "outputs": []
    },
    {
      "cell_type": "code",
      "source": [
        "# the resnet model defined\n",
        "advanced_model = models.resnet50(pretrained=True)\n",
        "for param in advanced_model.parameters():\n",
        "    param.requires_grad = False\n",
        "\n",
        "for param in advanced_model.layer4.parameters():\n",
        "    param.requires_grad = True\n",
        "\n",
        "# model's final layer\n",
        "num_features = advanced_model.fc.in_features\n",
        "advanced_model.fc = torch.nn.Linear(num_features, len(pd.unique(train_data.image_annotations[\"class_names\"])))"
      ],
      "metadata": {
        "id": "SmfFNWS0gYYg"
      },
      "id": "SmfFNWS0gYYg",
      "execution_count": null,
      "outputs": []
    },
    {
      "cell_type": "code",
      "source": [
        "# Define loss and optimizer\n",
        "class_weights = torch.tensor([1.0, 2.0, 3.0], dtype=torch.float)\n",
        "criterion = CrossEntropyLoss(weight=class_weights.to(device))"
      ],
      "metadata": {
        "id": "LAx9gKFvg8bG"
      },
      "id": "LAx9gKFvg8bG",
      "execution_count": null,
      "outputs": []
    },
    {
      "cell_type": "code",
      "source": [
        "# Adam optimizer\n",
        "optimizer = Adam(filter(lambda p: p.requires_grad, advanced_model.parameters()), lr=0.0001)"
      ],
      "metadata": {
        "id": "j8Z55jeAhAQ1"
      },
      "id": "j8Z55jeAhAQ1",
      "execution_count": null,
      "outputs": []
    },
    {
      "cell_type": "code",
      "source": [
        "# ReduceLROnPlateau scheduler\n",
        "scheduler = lr_scheduler.ReduceLROnPlateau(optimizer, 'min')\n",
        "device = torch.device('cuda' if torch.cuda.is_available() else 'cpu')\n",
        "advanced_model.to(device)\n",
        "epochs = 75\n",
        "epoch_loss_history = []"
      ],
      "metadata": {
        "id": "phulEGRDgdY3"
      },
      "id": "phulEGRDgdY3",
      "execution_count": null,
      "outputs": []
    },
    {
      "cell_type": "code",
      "execution_count": null,
      "id": "2912b77c",
      "metadata": {
        "id": "2912b77c",
        "outputId": "56221056-a12c-49ba-c200-405a7a2d2353"
      },
      "outputs": [
        {
          "name": "stdout",
          "output_type": "stream",
          "text": [
            "Epoch 1/75, Loss: 3.8383371757738516\n",
            "Epoch 2/75, Loss: 3.4978700659491797\n",
            "Epoch 3/75, Loss: 3.3429870171980425\n",
            "Epoch 4/75, Loss: 3.1376505692799888\n",
            "Epoch 5/75, Loss: 2.9278455990733523\n",
            "Epoch 6/75, Loss: 2.7189522530093337\n",
            "Epoch 7/75, Loss: 2.4410471139532146\n",
            "Epoch 8/75, Loss: 2.145700053735213\n",
            "Epoch 9/75, Loss: 2.0864539236733406\n",
            "Epoch 10/75, Loss: 2.0573006452936116\n",
            "Epoch 11/75, Loss: 1.9963155406894106\n",
            "Epoch 12/75, Loss: 1.9688972559842197\n",
            "Epoch 13/75, Loss: 1.9283840981396763\n",
            "Epoch 14/75, Loss: 1.9080494551947622\n",
            "Epoch 15/75, Loss: 1.861585006569371\n",
            "Epoch 16/75, Loss: 1.8746157595605561\n",
            "Epoch 17/75, Loss: 1.8536562991864753\n",
            "Epoch 18/75, Loss: 1.8484006036411633\n",
            "Epoch 19/75, Loss: 1.8719113902612166\n",
            "Epoch 20/75, Loss: 1.8465588905594565\n",
            "Epoch 21/75, Loss: 1.8395763238271077\n",
            "Epoch 22/75, Loss: 1.8414322354576804\n",
            "Epoch 23/75, Loss: 1.8262628750367598\n",
            "Epoch 24/75, Loss: 1.8544111974311597\n",
            "Epoch 25/75, Loss: 1.8463305108474963\n",
            "Epoch 26/75, Loss: 1.853250705834591\n",
            "Epoch 27/75, Loss: 1.8473329814997586\n",
            "Epoch 28/75, Loss: 1.8566601673762004\n",
            "Epoch 29/75, Loss: 1.8240469658013545\n",
            "Epoch 30/75, Loss: 1.8413601156437036\n",
            "Epoch 31/75, Loss: 1.8391531200119944\n",
            "Epoch 32/75, Loss: 1.8389576799941785\n",
            "Epoch 33/75, Loss: 1.8547672123620005\n",
            "Epoch 34/75, Loss: 1.8259333354054075\n",
            "Epoch 35/75, Loss: 1.849229467637611\n",
            "Epoch 36/75, Loss: 1.8406193870486636\n",
            "Epoch 37/75, Loss: 1.860208719065695\n",
            "Epoch 38/75, Loss: 1.8454438791130527\n",
            "Epoch 39/75, Loss: 1.843763586246606\n",
            "Epoch 40/75, Loss: 1.8592366251078518\n",
            "Epoch 41/75, Loss: 1.8279975345640471\n",
            "Epoch 42/75, Loss: 1.852202908559279\n",
            "Epoch 43/75, Loss: 1.8546027053486218\n",
            "Epoch 44/75, Loss: 1.853283206621806\n",
            "Epoch 45/75, Loss: 1.8533655097990325\n",
            "Epoch 46/75, Loss: 1.8361748330520862\n",
            "Epoch 47/75, Loss: 1.836441655953725\n",
            "Epoch 48/75, Loss: 1.847575104597843\n",
            "Epoch 49/75, Loss: 1.8637727083581868\n",
            "Epoch 50/75, Loss: 1.8530771497524146\n",
            "Epoch 51/75, Loss: 1.8553909207835342\n",
            "Epoch 52/75, Loss: 1.844258301185839\n",
            "Epoch 53/75, Loss: 1.8432613358353123\n",
            "Epoch 54/75, Loss: 1.8215927481651306\n",
            "Epoch 55/75, Loss: 1.8471210093209238\n",
            "Epoch 56/75, Loss: 1.8557208306861646\n",
            "Epoch 57/75, Loss: 1.8366231972521\n",
            "Epoch 58/75, Loss: 1.8409392454407432\n",
            "Epoch 59/75, Loss: 1.8395656961383242\n",
            "Epoch 60/75, Loss: 1.8358243450973972\n",
            "Epoch 61/75, Loss: 1.847920829599554\n",
            "Epoch 62/75, Loss: 1.831926997863885\n",
            "Epoch 63/75, Loss: 1.838882321661169\n",
            "Epoch 64/75, Loss: 1.841711938381195\n",
            "Epoch 65/75, Loss: 1.836161297379118\n",
            "Epoch 66/75, Loss: 1.8138642166600083\n",
            "Epoch 67/75, Loss: 1.8398393789927165\n",
            "Epoch 68/75, Loss: 1.8381299701603977\n",
            "Epoch 69/75, Loss: 1.8330762765624307\n",
            "Epoch 70/75, Loss: 1.8566841970790515\n",
            "Epoch 71/75, Loss: 1.8448183337847393\n",
            "Epoch 72/75, Loss: 1.8495034864454558\n",
            "Epoch 73/75, Loss: 1.846756844809561\n",
            "Epoch 74/75, Loss: 1.8345946037408076\n",
            "Epoch 75/75, Loss: 1.8517092195424167\n"
          ]
        }
      ],
      "source": [
        "\n",
        "# Training loop ran through\n",
        "for epoch in range(epochs):\n",
        "    running_loss = 0.0\n",
        "    advanced_model.train()\n",
        "    for inputs, labels in train_loader:\n",
        "        inputs, labels = inputs.to(device), labels.to(device)\n",
        "\n",
        "        optimizer.zero_grad()\n",
        "        outputs = advanced_model(inputs)\n",
        "        loss = criterion(outputs, labels)\n",
        "        loss.backward()\n",
        "        optimizer.step()\n",
        "\n",
        "        running_loss += loss.item()\n",
        "    scheduler.step(running_loss / len(train_loader))\n",
        "    epoch_loss = running_loss / len(train_loader)\n",
        "    epoch_loss_history.append(epoch_loss)\n",
        "\n",
        "    print(f'Epoch {epoch + 1}/{epochs}, Loss: {running_loss / len(train_loader)}')"
      ]
    },
    {
      "cell_type": "code",
      "execution_count": null,
      "id": "4374e7c0",
      "metadata": {
        "id": "4374e7c0",
        "outputId": "dae12b0b-4baa-4b7a-d2dc-9b36ad82cd88"
      },
      "outputs": [
        {
          "name": "stdout",
          "output_type": "stream",
          "text": [
            "\n",
            "\n",
            "Training Complete\n",
            "\n",
            "\n"
          ]
        }
      ],
      "source": [
        "print('\\n\\nTraining Complete\\n\\n')"
      ]
    },
    {
      "cell_type": "code",
      "source": [
        "# Model evaluation\n",
        "advanced_model.eval()\n",
        "predicted_labels = []\n",
        "true_labels = []"
      ],
      "metadata": {
        "id": "viLQ4Hkagme3"
      },
      "id": "viLQ4Hkagme3",
      "execution_count": null,
      "outputs": []
    },
    {
      "cell_type": "code",
      "execution_count": null,
      "id": "a605fd2c",
      "metadata": {
        "id": "a605fd2c"
      },
      "outputs": [],
      "source": [
        "\n",
        "with torch.no_grad():\n",
        "    for inputs, labels in test_loader:\n",
        "        inputs = inputs.to(device)\n",
        "        outputs = advanced_model(inputs)\n",
        "        _, predictions = torch.max(outputs, 1)\n",
        "        predicted_labels.extend(predictions.cpu().numpy())\n",
        "        true_labels.extend(labels.cpu().numpy())\n",
        "\n",
        "accuracy = accuracy_score(true_labels, predicted_labels)\n"
      ]
    },
    {
      "cell_type": "code",
      "execution_count": null,
      "id": "cbca8154",
      "metadata": {
        "scrolled": true,
        "id": "cbca8154",
        "outputId": "9dcc53b5-551c-46a2-b810-ddbbdf7e7347"
      },
      "outputs": [
        {
          "name": "stdout",
          "output_type": "stream",
          "text": [
            "Accuracy on Test Data: 73.65%\n"
          ]
        }
      ],
      "source": [
        "print(f'Accuracy on Test Data: {accuracy * 100:.2f}%')"
      ]
    },
    {
      "cell_type": "code",
      "source": [
        "import matplotlib.pyplot as plt\n",
        "plt.figure(figsize=(10, 5))\n",
        "plt.plot(range(1, epochs + 1), epoch_loss_history, marker='o')"
      ],
      "metadata": {
        "id": "noqBSGETgtIT"
      },
      "id": "noqBSGETgtIT",
      "execution_count": null,
      "outputs": []
    },
    {
      "cell_type": "code",
      "source": [
        "plt.title('Epoch vs Loss')\n",
        "plt.xlabel('Epoch')\n",
        "plt.ylabel('Loss')"
      ],
      "metadata": {
        "id": "tMNIPnUNgwv_"
      },
      "id": "tMNIPnUNgwv_",
      "execution_count": null,
      "outputs": []
    },
    {
      "cell_type": "code",
      "execution_count": null,
      "id": "865fde64",
      "metadata": {
        "id": "865fde64",
        "outputId": "77cda72d-7c0f-492c-99ce-1a3a1a2afe40"
      },
      "outputs": [
        {
          "data": {
            "image/png": "[encoded data removed]",
            "text/plain": [
              "<Figure size 1000x500 with 1 Axes>"
            ]
          },
          "metadata": {},
          "output_type": "display_data"
        }
      ],
      "source": [
        "plt.grid(True)\n",
        "plt.show()"
      ]
    },
    {
      "cell_type": "markdown",
      "source": [
        "The Paper Link is mentioned below."
      ],
      "metadata": {
        "id": "TIdUJi9TipCa"
      },
      "id": "TIdUJi9TipCa"
    },
    {
      "cell_type": "markdown",
      "source": [
        "https://www.researchgate.net/publication/375833306_CowStallNumbers_A_Small_Dataset_for_Stall_Number_Detection_of_Cow_Teats_Images_using_Object_Detection_Model"
      ],
      "metadata": {
        "id": "SnPJBwWainao"
      },
      "id": "SnPJBwWainao"
    }
  ],
  "metadata": {
    "kernelspec": {
      "display_name": "Python 3 (ipykernel)",
      "language": "python",
      "name": "python3"
    },
    "language_info": {
      "codemirror_mode": {
        "name": "ipython",
        "version": 3
      },
      "file_extension": ".py",
      "mimetype": "text/x-python",
      "name": "python",
      "nbconvert_exporter": "python",
      "pygments_lexer": "ipython3",
      "version": "3.9.13"
    },
    "colab": {
      "provenance": []
    }
  },
  "nbformat": 4,
  "nbformat_minor": 5
}